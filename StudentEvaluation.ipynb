{
 "cells": [
  {
   "cell_type": "code",
   "execution_count": 43,
   "metadata": {},
   "outputs": [],
   "source": [
    "import pandas as pd\n",
    "import re\n",
    "from sklearn.feature_extraction.text import TfidfVectorizer\n",
    "from sklearn.model_selection import train_test_split\n",
    "from sklearn.linear_model import LogisticRegression\n",
    "from sklearn.metrics import classification_report\n",
    "from imblearn.over_sampling import SMOTE\n",
    "from nltk.corpus import stopwords\n",
    "from nltk.tokenize import word_tokenize\n",
    "import nltk\n",
    "\n",
    "# Load the data\n",
    "data = pd.read_csv('student_feedback.csv')\n"
   ]
  },
  {
   "cell_type": "code",
   "execution_count": 44,
   "metadata": {},
   "outputs": [],
   "source": [
    "# Function to clean the text\n",
    "def preprocess_text(text):\n",
    "    # Remove punctuation and digits\n",
    "    text = re.sub(r'[^\\w\\s]', '', text)\n",
    "    text = re.sub(r'\\d+', '', text)\n",
    "    \n",
    "    # Convert to lowercase\n",
    "    text = text.lower()\n",
    "    \n",
    "    # Tokenization\n",
    "    words = word_tokenize(text)\n",
    "    \n",
    "    # Remove stopwords\n",
    "    stop_words = set(stopwords.words('english'))\n",
    "    words = [word for word in words if word not in stop_words]\n",
    "    \n",
    "    return ' '.join(words)\n",
    "\n",
    "# Apply preprocessing to the data\n",
    "data['cleaned_feedback'] = data['feedback'].apply(preprocess_text)\n"
   ]
  },
  {
   "cell_type": "code",
   "execution_count": 45,
   "metadata": {},
   "outputs": [],
   "source": [
    "# Use TfidfVectorizer with n-grams\n",
    "vectorizer = TfidfVectorizer(ngram_range=(1, 2))  # Use both unigrams and bigrams\n",
    "X = vectorizer.fit_transform(data['cleaned_feedback'])\n",
    "y = data['label']\n"
   ]
  },
  {
   "cell_type": "code",
   "execution_count": 46,
   "metadata": {},
   "outputs": [],
   "source": [
    "# Apply SMOTE to balance the dataset\n",
    "smote = SMOTE(random_state=42)\n",
    "X_resampled, y_resampled = smote.fit_resample(X, y)\n",
    "\n",
    "# Train-test split\n",
    "X_train, X_test, y_train, y_test = train_test_split(X_resampled, y_resampled, test_size=0.2, random_state=42, stratify=y_resampled)\n"
   ]
  },
  {
   "cell_type": "code",
   "execution_count": 47,
   "metadata": {},
   "outputs": [
    {
     "name": "stdout",
     "output_type": "stream",
     "text": [
      "              precision    recall  f1-score   support\n",
      "\n",
      "    negative       0.67      0.50      0.57         4\n",
      "     neutral       0.75      0.60      0.67         5\n",
      "    positive       0.43      0.60      0.50         5\n",
      "\n",
      "    accuracy                           0.57        14\n",
      "   macro avg       0.62      0.57      0.58        14\n",
      "weighted avg       0.61      0.57      0.58        14\n",
      "\n"
     ]
    }
   ],
   "source": [
    "# Model Building\n",
    "model = LogisticRegression()\n",
    "model.fit(X_train, y_train)\n",
    "\n",
    "# Prediction and Evaluation\n",
    "y_pred = model.predict(X_test)\n",
    "print(classification_report(y_test, y_pred))\n"
   ]
  },
  {
   "cell_type": "code",
   "execution_count": 48,
   "metadata": {},
   "outputs": [
    {
     "name": "stdout",
     "output_type": "stream",
     "text": [
      "Predicted sentiment: ['neutral']\n"
     ]
    }
   ],
   "source": [
    "# Function to predict sentiment\n",
    "def predict_sentiment(text):\n",
    "    # Preprocess the input text\n",
    "    cleaned_text = preprocess_text(text)\n",
    "    \n",
    "    # Transform the text to TF-IDF features\n",
    "    text_vector = vectorizer.transform([cleaned_text])\n",
    "    \n",
    "    # Predict the sentiment\n",
    "    prediction = model.predict(text_vector)\n",
    "    \n",
    "    # Ensure prediction is an integer\n",
    "    '''prediction_index = int(prediction[0])\n",
    "    \n",
    "    # Map the prediction to the corresponding label\n",
    "    labels = ['negative', 'neutral', 'positive']\n",
    "    return labels[prediction_index]'''\n",
    "    return prediction\n",
    "\n",
    "# Example usage\n",
    "user_input = input('Enter your Evaluation')\n",
    "print(f\"Predicted sentiment: {predict_sentiment(user_input)}\")\n"
   ]
  }
 ],
 "metadata": {
  "kernelspec": {
   "display_name": "base",
   "language": "python",
   "name": "python3"
  },
  "language_info": {
   "codemirror_mode": {
    "name": "ipython",
    "version": 3
   },
   "file_extension": ".py",
   "mimetype": "text/x-python",
   "name": "python",
   "nbconvert_exporter": "python",
   "pygments_lexer": "ipython3",
   "version": "3.11.7"
  }
 },
 "nbformat": 4,
 "nbformat_minor": 2
}
